{
  "nbformat": 4,
  "nbformat_minor": 0,
  "metadata": {
    "colab": {
      "name": "Vine_Review_Analysis.ipynb",
      "provenance": [],
      "collapsed_sections": []
    },
    "kernelspec": {
      "display_name": "PythonData",
      "language": "python",
      "name": "pythondata"
    },
    "language_info": {
      "codemirror_mode": {
        "name": "ipython",
        "version": 3
      },
      "file_extension": ".py",
      "mimetype": "text/x-python",
      "name": "python",
      "nbconvert_exporter": "python",
      "pygments_lexer": "ipython3",
      "version": "3.7.7"
    },
    "nteract": {
      "version": "0.12.3"
    }
  },
  "cells": [
    {
      "cell_type": "code",
      "metadata": {
        "id": "rDk1bYAGaTNT"
      },
      "source": [
        "# innstall java\n",
        "!apt-get install openjdk-8-jdk-headless -qq > /dev/null\n",
        "\n",
        "# install spark (change the version number if needed)\n",
        "!wget -q https://archive.apache.org/dist/spark/spark-3.1.1/spark-3.1.1-bin-hadoop3.2.tgz\n",
        "\n",
        "# unzip the spark file to the current folder\n",
        "!tar xf spark-3.1.1-bin-hadoop3.2.tgz\n",
        "\n",
        "# set your spark folder to your system path environment. \n",
        "import os\n",
        "os.environ[\"JAVA_HOME\"] = \"/usr/lib/jvm/java-8-openjdk-amd64\"\n",
        "os.environ[\"SPARK_HOME\"] = \"/content/spark-3.1.1-bin-hadoop3.2\"\n",
        "\n",
        "# install findspark using pip\n",
        "!pip install -q findspark\n",
        "\n",
        "#Verify spark version\n",
        "os.environ[\"SPARK_HOME\"]\n",
        "\n",
        "# Start a SparkSession\n",
        "import findspark\n",
        "findspark.init()"
      ],
      "execution_count": 2,
      "outputs": []
    },
    {
      "cell_type": "code",
      "metadata": {
        "colab": {
          "base_uri": "https://localhost:8080/"
        },
        "id": "_xKwTpATHqSe",
        "outputId": "46ea8252-1236-4652-a2a2-182ef6a06b9c"
      },
      "source": [
        "# Download the Postgres driver that will allow Spark to interact with Postgres.\n",
        "!wget https://jdbc.postgresql.org/download/postgresql-42.2.16.jar"
      ],
      "execution_count": 4,
      "outputs": [
        {
          "output_type": "stream",
          "text": [
            "--2021-03-20 01:14:44--  https://jdbc.postgresql.org/download/postgresql-42.2.16.jar\n",
            "Resolving jdbc.postgresql.org (jdbc.postgresql.org)... 72.32.157.228, 2001:4800:3e1:1::228\n",
            "Connecting to jdbc.postgresql.org (jdbc.postgresql.org)|72.32.157.228|:443... failed: Connection timed out.\n",
            "Connecting to jdbc.postgresql.org (jdbc.postgresql.org)|2001:4800:3e1:1::228|:443... failed: Cannot assign requested address.\n",
            "Retrying.\n",
            "\n",
            "--2021-03-20 01:15:17--  (try: 2)  https://jdbc.postgresql.org/download/postgresql-42.2.16.jar\n",
            "Connecting to jdbc.postgresql.org (jdbc.postgresql.org)|72.32.157.228|:443... failed: Connection timed out.\n",
            "Connecting to jdbc.postgresql.org (jdbc.postgresql.org)|2001:4800:3e1:1::228|:443... failed: Cannot assign requested address.\n",
            "Retrying.\n",
            "\n",
            "--2021-03-20 01:15:50--  (try: 3)  https://jdbc.postgresql.org/download/postgresql-42.2.16.jar\n",
            "Connecting to jdbc.postgresql.org (jdbc.postgresql.org)|72.32.157.228|:443... failed: Connection timed out.\n",
            "Connecting to jdbc.postgresql.org (jdbc.postgresql.org)|2001:4800:3e1:1::228|:443... failed: Cannot assign requested address.\n",
            "Retrying.\n",
            "\n",
            "--2021-03-20 01:16:25--  (try: 4)  https://jdbc.postgresql.org/download/postgresql-42.2.16.jar\n",
            "Connecting to jdbc.postgresql.org (jdbc.postgresql.org)|72.32.157.228|:443... failed: Connection timed out.\n",
            "Connecting to jdbc.postgresql.org (jdbc.postgresql.org)|2001:4800:3e1:1::228|:443... failed: Cannot assign requested address.\n",
            "Retrying.\n",
            "\n",
            "--2021-03-20 01:17:01--  (try: 5)  https://jdbc.postgresql.org/download/postgresql-42.2.16.jar\n",
            "Connecting to jdbc.postgresql.org (jdbc.postgresql.org)|72.32.157.228|:443... failed: Connection timed out.\n",
            "Connecting to jdbc.postgresql.org (jdbc.postgresql.org)|2001:4800:3e1:1::228|:443... failed: Cannot assign requested address.\n",
            "Retrying.\n",
            "\n",
            "--2021-03-20 01:17:38--  (try: 6)  https://jdbc.postgresql.org/download/postgresql-42.2.16.jar\n",
            "Connecting to jdbc.postgresql.org (jdbc.postgresql.org)|72.32.157.228|:443... connected.\n",
            "HTTP request sent, awaiting response... 200 OK\n",
            "Length: 1002883 (979K) [application/java-archive]\n",
            "Saving to: ‘postgresql-42.2.16.jar’\n",
            "\n",
            "postgresql-42.2.16. 100%[===================>] 979.38K  4.78MB/s    in 0.2s    \n",
            "\n",
            "2021-03-20 01:17:39 (4.78 MB/s) - ‘postgresql-42.2.16.jar’ saved [1002883/1002883]\n",
            "\n"
          ],
          "name": "stdout"
        }
      ]
    },
    {
      "cell_type": "code",
      "metadata": {
        "id": "MMqDAjVS0KN9"
      },
      "source": [
        "from pyspark.sql import SparkSession\n",
        "spark = SparkSession.builder.appName(\"BigData-Challenge\").config(\"spark.driver.extraClassPath\",\"/content/postgresql-42.2.16.jar\").getOrCreate()"
      ],
      "execution_count": 3,
      "outputs": []
    },
    {
      "cell_type": "code",
      "metadata": {
        "colab": {
          "base_uri": "https://localhost:8080/"
        },
        "id": "hJj8HhOuNc7m",
        "outputId": "3709c6cc-d85b-4477-91eb-9047384927dc"
      },
      "source": [
        "# Read in data from S3 Buckets\n",
        "from pyspark import SparkFiles\n",
        "url = \"https://hieppham.s3.us-east-2.amazonaws.com/vine_table.csv\"\n",
        "spark.sparkContext.addFile(url)\n",
        "df = spark.read.csv(SparkFiles.get(\"vine_table.csv\"), sep=\",\", header=True)\n",
        "# Show DataFrame\n",
        "df.show()"
      ],
      "execution_count": 23,
      "outputs": [
        {
          "output_type": "stream",
          "text": [
            "+--------------+-----------+-------------+-----------+----+-----------------+\n",
            "|     review_id|star_rating|helpful_votes|total_votes|vine|verified_purchase|\n",
            "+--------------+-----------+-------------+-----------+----+-----------------+\n",
            "| R8EWA1OFT84NX|          5|            0|          0|   N|                Y|\n",
            "|R2JWY4YRQD4FOP|          5|            0|          0|   N|                N|\n",
            "| RL5ESX231LZ0B|          5|            0|          0|   N|                Y|\n",
            "| RRMS9ZWJ2KD08|          5|            0|          0|   N|                Y|\n",
            "|R14I3ZG5E6S7YM|          5|            0|          0|   N|                Y|\n",
            "|R13EPSFP5DODN5|          4|            0|          0|   N|                Y|\n",
            "| R6RBP4HTE67SY|          5|            0|          0|   N|                Y|\n",
            "|R15B3EU40RSU2W|          5|            0|          0|   N|                Y|\n",
            "| RP4DD53A4ZJA2|          5|            0|          0|   N|                Y|\n",
            "|R2C99DJEO4RZ4K|          5|            3|          4|   N|                Y|\n",
            "| REV51EW323H8W|          5|            0|          0|   N|                Y|\n",
            "|R2GQ3W03WIUZKE|          5|            0|          0|   N|                Y|\n",
            "| RTI1YI7K6GE3D|          5|            0|          0|   N|                Y|\n",
            "|R3V9C2C0SPSZU6|          5|            0|          0|   N|                Y|\n",
            "|R1LB42XCSSCLV6|          5|            0|          0|   N|                Y|\n",
            "|R113NWCW6STTMC|          5|            0|          0|   N|                Y|\n",
            "| RWRN5XK337N41|          1|            0|          0|   N|                N|\n",
            "| RF4WL3QEP3PVI|          1|            0|          0|   N|                Y|\n",
            "|R2DRL5NRODVQ3Z|          5|            2|          2|   N|                Y|\n",
            "|R3T9B92MDDHKMM|          2|            5|          5|   N|                Y|\n",
            "+--------------+-----------+-------------+-----------+----+-----------------+\n",
            "only showing top 20 rows\n",
            "\n"
          ],
          "name": "stdout"
        }
      ]
    },
    {
      "cell_type": "code",
      "metadata": {
        "colab": {
          "base_uri": "https://localhost:8080/"
        },
        "id": "R4HERd9ONhDJ",
        "outputId": "160ecaab-e306-445a-af81-283f39ae4748"
      },
      "source": [
        "#Filter the dataset greater than or equal to 20\n",
        "vote_df = df.filter(df.total_votes >= 20)\n",
        " # Import Drive API and authenticate.\n",
        "from google.colab import drive\n",
        "# Mount your Drive to the Colab VM.\n",
        "drive.mount('/gdrive')\n",
        "# Write the DataFrame to CSV file.\n",
        "vote_df.write.option(\"header\", \"true\").csv('/gdrive/My Drive/colab')\n",
        "vote_df.show()"
      ],
      "execution_count": 92,
      "outputs": [
        {
          "output_type": "stream",
          "text": [
            "Drive already mounted at /gdrive; to attempt to forcibly remount, call drive.mount(\"/gdrive\", force_remount=True).\n",
            "+--------------+-----------+-------------+-----------+----+-----------------+\n",
            "|     review_id|star_rating|helpful_votes|total_votes|vine|verified_purchase|\n",
            "+--------------+-----------+-------------+-----------+----+-----------------+\n",
            "| ROI00QN8IS49I|          5|           83|         91|   N|                N|\n",
            "|R13C5INE1RTZP6|          2|           26|         26|   N|                Y|\n",
            "| RXVMMXCL67MZN|          4|          378|        383|   N|                Y|\n",
            "|R33JJQWAUYBKD3|          5|          270|        280|   N|                Y|\n",
            "|R3N0XV9267NOXV|          5|           41|         47|   Y|                N|\n",
            "|R31HQD6YXSQV1W|          3|           40|         48|   N|                Y|\n",
            "|R33LQSF958O6K8|          5|           39|         41|   N|                Y|\n",
            "|R3OIDSQJ84W7J1|          5|           21|         24|   N|                N|\n",
            "|R3UUR313K5VVTL|          1|            1|         24|   N|                Y|\n",
            "| RODE8K12S7148|          5|           41|         45|   N|                Y|\n",
            "|R2QZFYFUKP22SP|          5|           33|         37|   N|                Y|\n",
            "| RFON10GAZKDL3|          3|           16|         20|   N|                Y|\n",
            "|R2UXKAUFMPE0PJ|          1|           29|         29|   N|                N|\n",
            "|R20YYYGIRVB7F1|          1|           32|         41|   N|                N|\n",
            "|R36065K853ACRA|          3|           28|         34|   N|                Y|\n",
            "| RBS6RYHXL83L8|          5|           49|         57|   N|                Y|\n",
            "|R2D5JAVXATJOQB|          4|           45|         48|   N|                Y|\n",
            "|R1SUS9Y51N3QO8|          1|           42|         46|   N|                N|\n",
            "|R3DKDS7674IU4Z|          5|           29|         31|   N|                N|\n",
            "|R3VER1GSR74AHB|          4|           38|         39|   N|                Y|\n",
            "+--------------+-----------+-------------+-----------+----+-----------------+\n",
            "only showing top 20 rows\n",
            "\n"
          ],
          "name": "stdout"
        }
      ]
    },
    {
      "cell_type": "code",
      "metadata": {
        "colab": {
          "base_uri": "https://localhost:8080/"
        },
        "id": "ECbUXrMlN0YO",
        "outputId": "e01dea5a-0331-4eb2-a612-2192b3fc61a3"
      },
      "source": [
        "#new DataFrame by total_votes is equal to or greater than 50%.\n",
        "new_df = vote_df.filter(vote_df.helpful_votes/vote_df.total_votes >= 0.5)\n",
        "new_df.show()"
      ],
      "execution_count": 9,
      "outputs": [
        {
          "output_type": "stream",
          "text": [
            "+--------------+-----------+-------------+-----------+----+-----------------+\n",
            "|     review_id|star_rating|helpful_votes|total_votes|vine|verified_purchase|\n",
            "+--------------+-----------+-------------+-----------+----+-----------------+\n",
            "| ROI00QN8IS49I|          5|           83|         91|   N|                N|\n",
            "|R13C5INE1RTZP6|          2|           26|         26|   N|                Y|\n",
            "| RXVMMXCL67MZN|          4|          378|        383|   N|                Y|\n",
            "|R33JJQWAUYBKD3|          5|          270|        280|   N|                Y|\n",
            "|R3N0XV9267NOXV|          5|           41|         47|   Y|                N|\n",
            "|R31HQD6YXSQV1W|          3|           40|         48|   N|                Y|\n",
            "|R33LQSF958O6K8|          5|           39|         41|   N|                Y|\n",
            "|R3OIDSQJ84W7J1|          5|           21|         24|   N|                N|\n",
            "| RODE8K12S7148|          5|           41|         45|   N|                Y|\n",
            "|R2QZFYFUKP22SP|          5|           33|         37|   N|                Y|\n",
            "| RFON10GAZKDL3|          3|           16|         20|   N|                Y|\n",
            "|R2UXKAUFMPE0PJ|          1|           29|         29|   N|                N|\n",
            "|R20YYYGIRVB7F1|          1|           32|         41|   N|                N|\n",
            "|R36065K853ACRA|          3|           28|         34|   N|                Y|\n",
            "| RBS6RYHXL83L8|          5|           49|         57|   N|                Y|\n",
            "|R2D5JAVXATJOQB|          4|           45|         48|   N|                Y|\n",
            "|R1SUS9Y51N3QO8|          1|           42|         46|   N|                N|\n",
            "|R3DKDS7674IU4Z|          5|           29|         31|   N|                N|\n",
            "|R3VER1GSR74AHB|          4|           38|         39|   N|                Y|\n",
            "| R4KKILPJRQ2J5|          1|           12|         20|   N|                Y|\n",
            "+--------------+-----------+-------------+-----------+----+-----------------+\n",
            "only showing top 20 rows\n",
            "\n"
          ],
          "name": "stdout"
        }
      ]
    },
    {
      "cell_type": "code",
      "metadata": {
        "colab": {
          "base_uri": "https://localhost:8080/"
        },
        "id": "J-du9BE7N431",
        "outputId": "1f454904-3597-444a-8631-81651b772151"
      },
      "source": [
        "#Paid vine DataFrame\n",
        "paidvine_df = new_df.filter(new_df.vine == 'Y')\n",
        "paidvine_df.show()"
      ],
      "execution_count": 10,
      "outputs": [
        {
          "output_type": "stream",
          "text": [
            "+--------------+-----------+-------------+-----------+----+-----------------+\n",
            "|     review_id|star_rating|helpful_votes|total_votes|vine|verified_purchase|\n",
            "+--------------+-----------+-------------+-----------+----+-----------------+\n",
            "|R3N0XV9267NOXV|          5|           41|         47|   Y|                N|\n",
            "| RSA6JQ346JZHZ|          5|           55|         64|   Y|                Y|\n",
            "|R1FXF4HRMCLG4C|          5|           69|         84|   Y|                N|\n",
            "| RCTBWC3II42MG|          4|          113|        117|   Y|                N|\n",
            "| RTMQM2CQ1XIZ0|          5|           21|         25|   Y|                N|\n",
            "|R2CBJLCKQ612KU|          4|           27|         35|   Y|                N|\n",
            "|R322QDGO4AV2B5|          5|           55|         65|   Y|                N|\n",
            "| R2S7CXRDGQ6EE|          4|           36|         39|   Y|                N|\n",
            "|R3ECMXK0SGR1VV|          5|           59|         64|   Y|                N|\n",
            "|R3D55CPJ6J6Z78|          4|           15|         20|   Y|                N|\n",
            "|R1Y9OYIUCP3WD2|          4|           20|         20|   Y|                N|\n",
            "| RT8AV0IB2PGHH|          4|          108|        132|   Y|                N|\n",
            "|R2RLHJRJD9B0NX|          3|           44|         47|   Y|                N|\n",
            "| RAPD7IX0LPZ10|          4|           36|         37|   Y|                N|\n",
            "|R37QPCBNR07PPR|          1|           22|         27|   Y|                N|\n",
            "|R3BRFPK8N59XPY|          5|          364|        395|   Y|                N|\n",
            "|R1WE59I775L7L9|          4|           31|         33|   Y|                N|\n",
            "| RO8IGQJV1PKCJ|          5|           78|         84|   Y|                N|\n",
            "| RWZDJT9MQP6A4|          5|           86|         97|   Y|                N|\n",
            "|R2VDXEVKFSJU36|          5|           20|         22|   Y|                N|\n",
            "+--------------+-----------+-------------+-----------+----+-----------------+\n",
            "only showing top 20 rows\n",
            "\n"
          ],
          "name": "stdout"
        }
      ]
    },
    {
      "cell_type": "code",
      "metadata": {
        "colab": {
          "base_uri": "https://localhost:8080/"
        },
        "id": "Y232Iz6QOjZU",
        "outputId": "4e2e6c52-f5a7-457b-ee43-bfbe7eb600fa"
      },
      "source": [
        "#Unpaid vine DataFrame\n",
        "unpaidvine_df = new_df.filter(new_df.vine == 'N')\n",
        "unpaidvine_df.show()"
      ],
      "execution_count": 14,
      "outputs": [
        {
          "output_type": "stream",
          "text": [
            "+--------------+-----------+-------------+-----------+----+-----------------+\n",
            "|     review_id|star_rating|helpful_votes|total_votes|vine|verified_purchase|\n",
            "+--------------+-----------+-------------+-----------+----+-----------------+\n",
            "| ROI00QN8IS49I|          5|           83|         91|   N|                N|\n",
            "|R13C5INE1RTZP6|          2|           26|         26|   N|                Y|\n",
            "| RXVMMXCL67MZN|          4|          378|        383|   N|                Y|\n",
            "|R33JJQWAUYBKD3|          5|          270|        280|   N|                Y|\n",
            "|R31HQD6YXSQV1W|          3|           40|         48|   N|                Y|\n",
            "|R33LQSF958O6K8|          5|           39|         41|   N|                Y|\n",
            "|R3OIDSQJ84W7J1|          5|           21|         24|   N|                N|\n",
            "| RODE8K12S7148|          5|           41|         45|   N|                Y|\n",
            "|R2QZFYFUKP22SP|          5|           33|         37|   N|                Y|\n",
            "| RFON10GAZKDL3|          3|           16|         20|   N|                Y|\n",
            "|R2UXKAUFMPE0PJ|          1|           29|         29|   N|                N|\n",
            "|R20YYYGIRVB7F1|          1|           32|         41|   N|                N|\n",
            "|R36065K853ACRA|          3|           28|         34|   N|                Y|\n",
            "| RBS6RYHXL83L8|          5|           49|         57|   N|                Y|\n",
            "|R2D5JAVXATJOQB|          4|           45|         48|   N|                Y|\n",
            "|R1SUS9Y51N3QO8|          1|           42|         46|   N|                N|\n",
            "|R3DKDS7674IU4Z|          5|           29|         31|   N|                N|\n",
            "|R3VER1GSR74AHB|          4|           38|         39|   N|                Y|\n",
            "| R4KKILPJRQ2J5|          1|           12|         20|   N|                Y|\n",
            "| RE1XO71W5US5S|          1|           28|         30|   N|                Y|\n",
            "+--------------+-----------+-------------+-----------+----+-----------------+\n",
            "only showing top 20 rows\n",
            "\n"
          ],
          "name": "stdout"
        }
      ]
    },
    {
      "cell_type": "code",
      "metadata": {
        "colab": {
          "base_uri": "https://localhost:8080/"
        },
        "id": "JayNpnbaOmnO",
        "outputId": "471655f1-479d-4abd-e323-4b68cc15e995"
      },
      "source": [
        "#Paid total \n",
        "total_paid = paidvine_df.count()\n",
        "total_paid"
      ],
      "execution_count": 15,
      "outputs": [
        {
          "output_type": "execute_result",
          "data": {
            "text/plain": [
              "463"
            ]
          },
          "metadata": {
            "tags": []
          },
          "execution_count": 15
        }
      ]
    },
    {
      "cell_type": "code",
      "metadata": {
        "colab": {
          "base_uri": "https://localhost:8080/"
        },
        "id": "mGtATJWUO5lf",
        "outputId": "ea6e07aa-216a-4213-cb1d-6452c7738207"
      },
      "source": [
        "#Paid 5-star \n",
        "paid_five_star = paidvine_df.filter(paidvine_df.star_rating == 5).count()\n",
        "paid_five_star"
      ],
      "execution_count": 16,
      "outputs": [
        {
          "output_type": "execute_result",
          "data": {
            "text/plain": [
              "202"
            ]
          },
          "metadata": {
            "tags": []
          },
          "execution_count": 16
        }
      ]
    },
    {
      "cell_type": "code",
      "metadata": {
        "colab": {
          "base_uri": "https://localhost:8080/"
        },
        "id": "X3XIK6Q0PKQ7",
        "outputId": "48c9a44f-1b52-426f-9a20-79a26bd2b4dd"
      },
      "source": [
        "#Paid 5-star percentage\n",
        "paid_five_star_percent = (paid_five_star / total_paid) * 100\n",
        "paid_five_star_percent"
      ],
      "execution_count": 18,
      "outputs": [
        {
          "output_type": "execute_result",
          "data": {
            "text/plain": [
              "43.628509719222464"
            ]
          },
          "metadata": {
            "tags": []
          },
          "execution_count": 18
        }
      ]
    },
    {
      "cell_type": "code",
      "metadata": {
        "colab": {
          "base_uri": "https://localhost:8080/"
        },
        "id": "Byuq7uBkPMmE",
        "outputId": "7bce4170-d463-47bf-8663-6b01145fd789"
      },
      "source": [
        "#Unpaid total\n",
        "total_unpaid = unpaidvine_df.count()\n",
        "total_unpaid"
      ],
      "execution_count": 19,
      "outputs": [
        {
          "output_type": "execute_result",
          "data": {
            "text/plain": [
              "25094"
            ]
          },
          "metadata": {
            "tags": []
          },
          "execution_count": 19
        }
      ]
    },
    {
      "cell_type": "code",
      "metadata": {
        "colab": {
          "base_uri": "https://localhost:8080/"
        },
        "id": "ze8qHYQkPPcC",
        "outputId": "4f395b0f-1a7b-4de8-b442-1790c0a7386b"
      },
      "source": [
        "#Unpaid 5-star\n",
        "unpaid_five_star = unpaidvine_df.filter(unpaidvine_df.star_rating == 5).count()\n",
        "unpaid_five_star"
      ],
      "execution_count": 20,
      "outputs": [
        {
          "output_type": "execute_result",
          "data": {
            "text/plain": [
              "12033"
            ]
          },
          "metadata": {
            "tags": []
          },
          "execution_count": 20
        }
      ]
    },
    {
      "cell_type": "code",
      "metadata": {
        "colab": {
          "base_uri": "https://localhost:8080/"
        },
        "id": "H01JtTB2PSZv",
        "outputId": "76109bb3-e22e-4ea6-9e22-f57649f9580d"
      },
      "source": [
        "#Unpaid 5-star percentage\n",
        "unpaid_five_star_percent = (unpaid_five_star / total_unpaid) * 100\n",
        "unpaid_five_star_percent"
      ],
      "execution_count": 21,
      "outputs": [
        {
          "output_type": "execute_result",
          "data": {
            "text/plain": [
              "47.95170160197657"
            ]
          },
          "metadata": {
            "tags": []
          },
          "execution_count": 21
        }
      ]
    }
  ]
}